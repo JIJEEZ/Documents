{
  "cells": [
    {
      "cell_type": "code",
      "execution_count": 1,
      "metadata": {
        "id": "6V91QO8RmtL3"
      },
      "outputs": [],
      "source": [
        "import pandas as pd\n",
        "from matplotlib import pyplot as plt\n",
        "import numpy as np\n",
        "import os\n",
        "import re"
      ]
    },
    {
      "cell_type": "code",
      "execution_count": 2,
      "metadata": {
        "id": "PBRwny9b45FK"
      },
      "outputs": [],
      "source": [
        "folder_path = '/Users/jio/Documents/DSP/kids1'\n",
        "csv_files = [filename for filename in os.listdir(folder_path) if filename.endswith(\"_B1.csv\") and not filename.endswith(\"BaseNoise_B1.csv\")]\n"
      ]
    },
    {
      "cell_type": "code",
      "execution_count": 7,
      "metadata": {
        "colab": {
          "base_uri": "https://localhost:8080/"
        },
        "id": "KeccJ9WF_dTd",
        "outputId": "6002394c-5489-4eb5-dd21-9c6b989775bc"
      },
      "outputs": [
        {
          "name": "stdout",
          "output_type": "stream",
          "text": [
            "['G1_Hd1_FTDS_SP1_050418_162003_1_0_0_B1.csv', 'G1_Hd1_FTDS_SP1_050418_162003_1_0_2_B1.csv', 'G1_Hd1_FTDS_SP1_050418_162003_1_0_4_B1.csv', 'G1_Hd1_FTDS_SP1_050418_162003_1_0_1_B1.csv', 'G1_Hd1_FTDS_SP1_050418_162003_1_0_3_B1.csv']\n"
          ]
        }
      ],
      "source": [
        "print(csv_files)"
      ]
    },
    {
      "cell_type": "code",
      "execution_count": 8,
      "metadata": {
        "colab": {
          "base_uri": "https://localhost:8080/"
        },
        "id": "oHENmvLsB6TL",
        "outputId": "4e878ceb-d62f-416d-bb75-350a751a9c2e"
      },
      "outputs": [
        {
          "name": "stdout",
          "output_type": "stream",
          "text": [
            "Data from file: G1_Hd1_FTDS_SP1_050418_162003_1_0_0_B1.csv\n",
            "Time [sec]  AE [V]      NaN\n",
            "0.00000000  -0.104980   NaN\n",
            "0.00000020  -0.053711   NaN\n",
            "0.00000040  -0.024414   NaN\n",
            "0.00000060  -0.029297   NaN\n",
            "                         ..\n",
            "0.00833220  -0.007324   NaN\n",
            "0.00833240  -0.029297   NaN\n",
            "0.00833260  -0.063477   NaN\n",
            "0.00833280  -0.061035   NaN\n",
            "0.00833300  -0.056152   NaN\n",
            "Name: Unnamed: 1, Length: 41667, dtype: float64\n",
            "\n",
            "\n",
            "Data from file: G1_Hd1_FTDS_SP1_050418_162003_1_0_2_B1.csv\n",
            "Time [sec]  AE [V]      NaN\n",
            "0.00000000  0.080566    NaN\n",
            "0.00000020  0.078125    NaN\n",
            "0.00000040  0.048828    NaN\n",
            "0.00000060  0.014648    NaN\n",
            "                         ..\n",
            "0.00833220  -0.031738   NaN\n",
            "0.00833240  -0.068359   NaN\n",
            "0.00833260  -0.102539   NaN\n",
            "0.00833280  -0.087891   NaN\n",
            "0.00833300  -0.053711   NaN\n",
            "Name: Unnamed: 1, Length: 41667, dtype: float64\n",
            "\n",
            "\n",
            "Data from file: G1_Hd1_FTDS_SP1_050418_162003_1_0_4_B1.csv\n",
            "Time [sec]  AE [V]      NaN\n",
            "0.00000000  0.009766    NaN\n",
            "0.00000020  0.036621    NaN\n",
            "0.00000040  0.046387    NaN\n",
            "0.00000060  0.046387    NaN\n",
            "                         ..\n",
            "0.00833220  -0.070801   NaN\n",
            "0.00833240  -0.058594   NaN\n",
            "0.00833260  -0.046387   NaN\n",
            "0.00833280  -0.036621   NaN\n",
            "0.00833300  -0.021973   NaN\n",
            "Name: Unnamed: 1, Length: 41667, dtype: float64\n",
            "\n",
            "\n",
            "Data from file: G1_Hd1_FTDS_SP1_050418_162003_1_0_1_B1.csv\n",
            "Time [sec]  AE [V]      NaN\n",
            "0.00000000  0.017090    NaN\n",
            "0.00000020  -0.002441   NaN\n",
            "0.00000040  -0.024414   NaN\n",
            "0.00000060  -0.007324   NaN\n",
            "                         ..\n",
            "0.00833220  -0.036621   NaN\n",
            "0.00833240  -0.039062   NaN\n",
            "0.00833260  -0.029297   NaN\n",
            "0.00833280  -0.041504   NaN\n",
            "0.00833300  -0.073242   NaN\n",
            "Name: Unnamed: 1, Length: 41667, dtype: float64\n",
            "\n",
            "\n",
            "Data from file: G1_Hd1_FTDS_SP1_050418_162003_1_0_3_B1.csv\n",
            "Time [sec]  AE [V]      NaN\n",
            "0.00000000  0.026855    NaN\n",
            "0.00000020  -0.007324   NaN\n",
            "0.00000040  -0.029297   NaN\n",
            "0.00000060  -0.014648   NaN\n",
            "                         ..\n",
            "0.00833220  -0.036621   NaN\n",
            "0.00833240  -0.029297   NaN\n",
            "0.00833260  -0.034180   NaN\n",
            "0.00833280  -0.048828   NaN\n",
            "0.00833300  -0.031738   NaN\n",
            "Name: Unnamed: 1, Length: 41667, dtype: float64\n",
            "\n",
            "\n"
          ]
        }
      ],
      "source": [
        "for csv in csv_files:\n",
        "    df = pd.read_csv(os.path.join(folder_path, csv), skiprows=4)\n",
        "    data = df.iloc[0:, 1]\n",
        "\n",
        "    print(f\"Data from file: {csv}\")\n",
        "    print(data)\n",
        "    print(\"\\n\")\n",
        "\n",
        "\n"
      ]
    },
    {
      "cell_type": "code",
      "execution_count": 10,
      "metadata": {
        "colab": {
          "base_uri": "https://localhost:8080/",
          "height": 460
        },
        "id": "-RxunDtfJfO3",
        "outputId": "3be578e2-0c79-461c-a6f1-b5bdef1c0532"
      },
      "outputs": [
        {
          "ename": "KeyError",
          "evalue": "\"None of [Index([(nan, nan, nan, nan, nan, nan, nan, nan, nan, nan, nan, nan, nan, nan, nan, nan, nan, nan, nan, nan, nan, nan, nan, nan, nan, nan, nan, nan, nan, nan, nan, nan, nan, nan, nan, nan, nan, nan, nan, nan, nan, nan, nan, nan, nan, nan, nan, nan, nan, nan, nan, nan, nan, nan, nan, nan, nan, nan, nan, nan, nan, nan, nan, nan, nan, nan, nan, nan, nan, nan, nan, nan, nan, nan, nan, nan, nan, nan, nan, nan, nan, nan, nan, nan, nan, nan, nan, nan, nan, nan, nan, nan, nan, nan, nan, nan, nan, nan, nan, nan, ...)], dtype='object')] are in the [columns]\"",
          "output_type": "error",
          "traceback": [
            "\u001b[0;31m---------------------------------------------------------------------------\u001b[0m",
            "\u001b[0;31mKeyError\u001b[0m                                  Traceback (most recent call last)",
            "\u001b[1;32m/Users/jio/Documents/DSP/Another_copy_of_DSP.ipynb Cell 5\u001b[0m line \u001b[0;36m3\n\u001b[1;32m      <a href='vscode-notebook-cell:/Users/jio/Documents/DSP/Another_copy_of_DSP.ipynb#W5sZmlsZQ%3D%3D?line=0'>1</a>\u001b[0m \u001b[39mfor\u001b[39;00m csv \u001b[39min\u001b[39;00m csv_files:\n\u001b[1;32m      <a href='vscode-notebook-cell:/Users/jio/Documents/DSP/Another_copy_of_DSP.ipynb#W5sZmlsZQ%3D%3D?line=1'>2</a>\u001b[0m     df \u001b[39m=\u001b[39m pd\u001b[39m.\u001b[39mread_csv(os\u001b[39m.\u001b[39mpath\u001b[39m.\u001b[39mjoin(folder_path, csv), header\u001b[39m=\u001b[39m\u001b[39m4\u001b[39m)\n\u001b[0;32m----> <a href='vscode-notebook-cell:/Users/jio/Documents/DSP/Another_copy_of_DSP.ipynb#W5sZmlsZQ%3D%3D?line=2'>3</a>\u001b[0m     df \u001b[39m=\u001b[39m df[[data]]\n\u001b[1;32m      <a href='vscode-notebook-cell:/Users/jio/Documents/DSP/Another_copy_of_DSP.ipynb#W5sZmlsZQ%3D%3D?line=4'>5</a>\u001b[0m     file_name \u001b[39m=\u001b[39m os\u001b[39m.\u001b[39mpath\u001b[39m.\u001b[39msplitext(csv)[\u001b[39m0\u001b[39m]\n\u001b[1;32m      <a href='vscode-notebook-cell:/Users/jio/Documents/DSP/Another_copy_of_DSP.ipynb#W5sZmlsZQ%3D%3D?line=5'>6</a>\u001b[0m     step_number \u001b[39m=\u001b[39m extract_step_number(file_name)\n",
            "File \u001b[0;32m/usr/local/lib/python3.11/site-packages/pandas/core/frame.py:3902\u001b[0m, in \u001b[0;36mDataFrame.__getitem__\u001b[0;34m(self, key)\u001b[0m\n\u001b[1;32m   3900\u001b[0m     \u001b[39mif\u001b[39;00m is_iterator(key):\n\u001b[1;32m   3901\u001b[0m         key \u001b[39m=\u001b[39m \u001b[39mlist\u001b[39m(key)\n\u001b[0;32m-> 3902\u001b[0m     indexer \u001b[39m=\u001b[39m \u001b[39mself\u001b[39;49m\u001b[39m.\u001b[39;49mcolumns\u001b[39m.\u001b[39;49m_get_indexer_strict(key, \u001b[39m\"\u001b[39;49m\u001b[39mcolumns\u001b[39;49m\u001b[39m\"\u001b[39;49m)[\u001b[39m1\u001b[39m]\n\u001b[1;32m   3904\u001b[0m \u001b[39m# take() does not accept boolean indexers\u001b[39;00m\n\u001b[1;32m   3905\u001b[0m \u001b[39mif\u001b[39;00m \u001b[39mgetattr\u001b[39m(indexer, \u001b[39m\"\u001b[39m\u001b[39mdtype\u001b[39m\u001b[39m\"\u001b[39m, \u001b[39mNone\u001b[39;00m) \u001b[39m==\u001b[39m \u001b[39mbool\u001b[39m:\n",
            "File \u001b[0;32m/usr/local/lib/python3.11/site-packages/pandas/core/indexes/base.py:6114\u001b[0m, in \u001b[0;36mIndex._get_indexer_strict\u001b[0;34m(self, key, axis_name)\u001b[0m\n\u001b[1;32m   6111\u001b[0m \u001b[39melse\u001b[39;00m:\n\u001b[1;32m   6112\u001b[0m     keyarr, indexer, new_indexer \u001b[39m=\u001b[39m \u001b[39mself\u001b[39m\u001b[39m.\u001b[39m_reindex_non_unique(keyarr)\n\u001b[0;32m-> 6114\u001b[0m \u001b[39mself\u001b[39;49m\u001b[39m.\u001b[39;49m_raise_if_missing(keyarr, indexer, axis_name)\n\u001b[1;32m   6116\u001b[0m keyarr \u001b[39m=\u001b[39m \u001b[39mself\u001b[39m\u001b[39m.\u001b[39mtake(indexer)\n\u001b[1;32m   6117\u001b[0m \u001b[39mif\u001b[39;00m \u001b[39misinstance\u001b[39m(key, Index):\n\u001b[1;32m   6118\u001b[0m     \u001b[39m# GH 42790 - Preserve name from an Index\u001b[39;00m\n",
            "File \u001b[0;32m/usr/local/lib/python3.11/site-packages/pandas/core/indexes/base.py:6175\u001b[0m, in \u001b[0;36mIndex._raise_if_missing\u001b[0;34m(self, key, indexer, axis_name)\u001b[0m\n\u001b[1;32m   6173\u001b[0m     \u001b[39mif\u001b[39;00m use_interval_msg:\n\u001b[1;32m   6174\u001b[0m         key \u001b[39m=\u001b[39m \u001b[39mlist\u001b[39m(key)\n\u001b[0;32m-> 6175\u001b[0m     \u001b[39mraise\u001b[39;00m \u001b[39mKeyError\u001b[39;00m(\u001b[39mf\u001b[39m\u001b[39m\"\u001b[39m\u001b[39mNone of [\u001b[39m\u001b[39m{\u001b[39;00mkey\u001b[39m}\u001b[39;00m\u001b[39m] are in the [\u001b[39m\u001b[39m{\u001b[39;00maxis_name\u001b[39m}\u001b[39;00m\u001b[39m]\u001b[39m\u001b[39m\"\u001b[39m)\n\u001b[1;32m   6177\u001b[0m not_found \u001b[39m=\u001b[39m \u001b[39mlist\u001b[39m(ensure_index(key)[missing_mask\u001b[39m.\u001b[39mnonzero()[\u001b[39m0\u001b[39m]]\u001b[39m.\u001b[39munique())\n\u001b[1;32m   6178\u001b[0m \u001b[39mraise\u001b[39;00m \u001b[39mKeyError\u001b[39;00m(\u001b[39mf\u001b[39m\u001b[39m\"\u001b[39m\u001b[39m{\u001b[39;00mnot_found\u001b[39m}\u001b[39;00m\u001b[39m not in index\u001b[39m\u001b[39m\"\u001b[39m)\n",
            "\u001b[0;31mKeyError\u001b[0m: \"None of [Index([(nan, nan, nan, nan, nan, nan, nan, nan, nan, nan, nan, nan, nan, nan, nan, nan, nan, nan, nan, nan, nan, nan, nan, nan, nan, nan, nan, nan, nan, nan, nan, nan, nan, nan, nan, nan, nan, nan, nan, nan, nan, nan, nan, nan, nan, nan, nan, nan, nan, nan, nan, nan, nan, nan, nan, nan, nan, nan, nan, nan, nan, nan, nan, nan, nan, nan, nan, nan, nan, nan, nan, nan, nan, nan, nan, nan, nan, nan, nan, nan, nan, nan, nan, nan, nan, nan, nan, nan, nan, nan, nan, nan, nan, nan, nan, nan, nan, nan, nan, nan, ...)], dtype='object')] are in the [columns]\""
          ]
        }
      ],
      "source": [
        "for csv in csv_files:\n",
        "    df = pd.read_csv(os.path.join(folder_path, csv), header=4)\n",
        "    df = df[[data]]\n",
        "\n",
        "    file_name = os.path.splitext(csv)[0]\n",
        "    step_number = extract_step_number(file_name)\n",
        "\n",
        "    mean_value = df[data].mean()\n",
        "    std_value = df[data].std()\n",
        "    stderr_value = stats.sem(df[data])\n",
        "\n",
        "    step_numbers.append(step_number)\n",
        "    mean_values.append(mean_value)\n",
        "    std_values.append(std_value)\n",
        "    stderr_values.append(stderr_value)\n",
        "\n",
        "    plt.figure(figsize=(12, 6))\n",
        "    plt.plot(df['Time [sec]'], df['AE [V]'], label='Time Series Data')\n",
        "    plt.xlabel('Time')\n",
        "    plt.ylabel('Acoustic Intensity')\n",
        "    plt.title(f'Time Series Data for Step # {step_number}')\n",
        "    #plt.savefig(os.path.join(output_directory, f'{step_number}_timeseries.png'))\n",
        "    plt.close()\n",
        "\n",
        "    plt.figure(figsize=(12, 6))\n",
        "    plt.hist(df['AE [V]'], bins=1000, label='Histogram')\n",
        "    plt.xlabel('Acoustic Intensity')\n",
        "    plt.ylabel('Count')\n",
        "    plt.title(f'Histogram for Step # {step_number}')\n",
        "    #plt.savefig(os.path.join(output_directory, f'{step_number}_histogram.png'))\n",
        "    plt.close()"
      ]
    },
    {
      "cell_type": "code",
      "execution_count": 11,
      "metadata": {
        "id": "g9Q4qpOPCLvI"
      },
      "outputs": [],
      "source": [
        "def average_column (csv_files):\n",
        "    f = open(csv_files,\"r\")\n",
        "    average = 0\n",
        "    Sum = 0\n",
        "    row_count = 0\n",
        "    for row in f:\n",
        "        for column in row.split(','):\n",
        "            n=float(column)\n",
        "            Sum += n\n",
        "        row_count += 1\n",
        "    average = Sum / len(column)\n",
        "    f.close()\n",
        "    return average\n",
        "    print(average)"
      ]
    },
    {
      "cell_type": "code",
      "execution_count": 12,
      "metadata": {
        "colab": {
          "base_uri": "https://localhost:8080/"
        },
        "id": "rFZMSeJQ-Fr7",
        "outputId": "f8768828-b0a9-45ae-aea8-a160d8c4b2ad"
      },
      "outputs": [
        {
          "name": "stdout",
          "output_type": "stream",
          "text": [
            "         AE [V]\n",
            "0     -0.104980\n",
            "1     -0.053711\n",
            "2     -0.024414\n",
            "3     -0.029297\n",
            "4     -0.041504\n",
            "...         ...\n",
            "41661 -0.007324\n",
            "41662 -0.029297\n",
            "41663 -0.063477\n",
            "41664 -0.061035\n",
            "41665 -0.056152\n",
            "\n",
            "[41666 rows x 1 columns]\n"
          ]
        }
      ],
      "source": [
        "\n",
        "    df = pd.read_csv(os.path.join(folder_path, csv), header=4)\n",
        "    df = df[[ 'AE [V]']]\n",
        "\n",
        "print(df)"
      ]
    },
    {
      "cell_type": "code",
      "execution_count": 14,
      "metadata": {
        "id": "7V9kCYsZCzkg"
      },
      "outputs": [
        {
          "ename": "NameError",
          "evalue": "name 'extract_step_number' is not defined",
          "output_type": "error",
          "traceback": [
            "\u001b[0;31m---------------------------------------------------------------------------\u001b[0m",
            "\u001b[0;31mNameError\u001b[0m                                 Traceback (most recent call last)",
            "\u001b[1;32m/Users/jio/Documents/DSP/Another_copy_of_DSP.ipynb Cell 8\u001b[0m line \u001b[0;36m2\n\u001b[1;32m      <a href='vscode-notebook-cell:/Users/jio/Documents/DSP/Another_copy_of_DSP.ipynb#X12sZmlsZQ%3D%3D?line=0'>1</a>\u001b[0m file_name \u001b[39m=\u001b[39m os\u001b[39m.\u001b[39mpath\u001b[39m.\u001b[39msplitext(csv)[\u001b[39m0\u001b[39m]\n\u001b[0;32m----> <a href='vscode-notebook-cell:/Users/jio/Documents/DSP/Another_copy_of_DSP.ipynb#X12sZmlsZQ%3D%3D?line=1'>2</a>\u001b[0m step_number \u001b[39m=\u001b[39m extract_step_number(file_name)\n\u001b[1;32m      <a href='vscode-notebook-cell:/Users/jio/Documents/DSP/Another_copy_of_DSP.ipynb#X12sZmlsZQ%3D%3D?line=3'>4</a>\u001b[0m mean_value \u001b[39m=\u001b[39m df[\u001b[39m'\u001b[39m\u001b[39mAE [V]\u001b[39m\u001b[39m'\u001b[39m]\u001b[39m.\u001b[39mmean()\n\u001b[1;32m      <a href='vscode-notebook-cell:/Users/jio/Documents/DSP/Another_copy_of_DSP.ipynb#X12sZmlsZQ%3D%3D?line=4'>5</a>\u001b[0m std_value \u001b[39m=\u001b[39m df[\u001b[39m'\u001b[39m\u001b[39mAE [V]\u001b[39m\u001b[39m'\u001b[39m]\u001b[39m.\u001b[39mstd()\n",
            "\u001b[0;31mNameError\u001b[0m: name 'extract_step_number' is not defined"
          ]
        }
      ],
      "source": [
        "\n",
        "file_name = os.path.splitext(csv)[0]\n",
        "step_number = extract_step_number(file_name)\n",
        "\n",
        "mean_value = df['AE [V]'].mean()\n",
        "std_value = df['AE [V]'].std()\n",
        "stderr_value = stats.sem(df['AE [V]'])"
      ]
    },
    {
      "cell_type": "code",
      "execution_count": null,
      "metadata": {
        "colab": {
          "base_uri": "https://localhost:8080/"
        },
        "id": "VzSggaGFC7cI",
        "outputId": "070b6854-54a5-48c2-e13c-e02c807ac6db"
      },
      "outputs": [
        {
          "name": "stdout",
          "output_type": "stream",
          "text": [
            "-0.00021322413958623334\n",
            "0.06477799847313867\n"
          ]
        }
      ],
      "source": [
        "print(mean_value)\n",
        "print(std_value)\n"
      ]
    },
    {
      "cell_type": "code",
      "execution_count": null,
      "metadata": {
        "id": "1plGQ9aB-sfB"
      },
      "outputs": [],
      "source": [
        "\n",
        "output_directory = '/content/drive/MyDrive/Colab Notebooks/dataset/output'\n",
        "os.makedirs(output_directory, exist_ok=True)\n",
        "\n",
        "def extract_step_number(file_name):\n",
        "    match = re.search(r'(\\d+)_B1', file_name)\n",
        "    if match:\n",
        "        step_number = match.group(1)\n",
        "        return step_number\n",
        "    return None\n",
        "\n",
        "step_numbers = []\n",
        "mean_values = []\n",
        "std_values = []\n",
        "stderr_values = []\n",
        "\n",
        "for csv in csv_files:\n",
        "    df = pd.read_csv(os.path.join(folder_path, csv), header=4)\n",
        "    df = df[['Time [sec]', 'AE [V]']]\n",
        "\n",
        "    file_name = os.path.splitext(csv)[0]\n",
        "    step_number = extract_step_number(file_name)\n",
        "\n",
        "    mean_value = df['AE [V]'].mean()\n",
        "    std_value = df['AE [V]'].std()\n",
        "    stderr_value = stats.sem(df['AE [V]'])\n",
        "\n",
        "    step_numbers.append(step_number)\n",
        "    mean_values.append(mean_value)\n",
        "    std_values.append(std_value)\n",
        "    stderr_values.append(stderr_value)\n",
        "\n",
        "    plt.figure(figsize=(12, 6))\n",
        "    plt.plot(df['Time [sec]'], df['AE [V]'], label='Time Series Data')\n",
        "    plt.xlabel('Time')\n",
        "    plt.ylabel('Acoustic Intensity')\n",
        "    plt.title(f'Time Series Data for Step # {step_number}')\n",
        "    plt.savefig(os.path.join(output_directory, f'{step_number}_timeseries.png'))\n",
        "    plt.close()\n",
        "\n",
        "    plt.figure(figsize=(12, 6))\n",
        "    plt.hist(df['AE [V]'], bins=1000, label='Histogram')\n",
        "    plt.xlabel('Acoustic Intensity')\n",
        "    plt.ylabel('Count')\n",
        "    plt.title(f'Histogram for Step # {step_number}')\n",
        "    plt.savefig(os.path.join(output_directory, f'{step_number}_histogram.png'))\n",
        "    plt.close()"
      ]
    },
    {
      "cell_type": "code",
      "execution_count": null,
      "metadata": {
        "id": "XOd23tRY707Z"
      },
      "outputs": [],
      "source": []
    },
    {
      "cell_type": "code",
      "execution_count": null,
      "metadata": {
        "id": "-2TOMxXItyqt"
      },
      "outputs": [],
      "source": [
        "\n",
        "step_numbers = []\n",
        "mean_values = []\n",
        "std_values = []\n",
        "stderr_values = []\n",
        "\n",
        "for csv in csv_files:\n",
        "    df = pd.read_csv(os.path.join(folder_path, csv), header=4)\n",
        "    df = df[['Time [sec]', 'AE [V]']]\n",
        "\n",
        "    file_name = os.path.splitext(csv)[0]\n",
        "    step_number = extract_step_number(file_name)\n",
        "\n",
        "    mean_value = df['AE [V]'].mean()\n",
        "    std_value = df['AE [V]'].std()\n",
        "    stderr_value = stats.sem(df['AE [V]'])\n",
        "\n",
        "    step_numbers.append(step_number)\n",
        "    mean_values.append(mean_value)\n",
        "    std_values.append(std_value)\n",
        "    stderr_values.append(stderr_value)\n"
      ]
    },
    {
      "cell_type": "code",
      "execution_count": null,
      "metadata": {
        "colab": {
          "base_uri": "https://localhost:8080/"
        },
        "id": "E5-LQ1mau2Ll",
        "outputId": "4afb3bc2-ef52-46c4-f7af-25cfa9f47594"
      },
      "outputs": [
        {
          "name": "stdout",
          "output_type": "stream",
          "text": [
            "C:\\Users\\tipqc\\Desktop\\dataset\\G1_Hd1_FTDS_SP1_050418_162003_1_0_0_B1.csv\n"
          ]
        }
      ],
      "source": [
        "print(path)"
      ]
    },
    {
      "cell_type": "code",
      "execution_count": null,
      "metadata": {
        "colab": {
          "base_uri": "https://localhost:8080/",
          "height": 607
        },
        "id": "L9TupoRMr1RW",
        "outputId": "99101e7e-96d5-40bd-88cb-6032f1db6f8e"
      },
      "outputs": [
        {
          "data": {
            "image/png": "[encoded data removed]",
            "text/plain": [
              "<Figure size 1200x600 with 1 Axes>"
            ]
          },
          "metadata": {},
          "output_type": "display_data"
        }
      ],
      "source": [
        "plt.figure(figsize=(12, 6))\n",
        "plt.errorbar(results_df['Step Number'], results_df['Mean'], yerr=results_df['Std Error'], fmt='o-', label='Mean with Std Error')\n",
        "plt.xlabel('Step Number')\n",
        "plt.ylabel('Mean Value')\n",
        "plt.title('Means of AE [V] for Different Steps')\n",
        "plt.legend()\n",
        "plt.tight_layout()\n",
        "plt.savefig(os.path.join(output_directory, 'mean_values.png'))\n",
        "plt.show()"
      ]
    },
    {
      "cell_type": "code",
      "execution_count": null,
      "metadata": {
        "id": "wnvthMhV16Ze"
      },
      "outputs": [],
      "source": []
    }
  ],
  "metadata": {
    "colab": {
      "provenance": []
    },
    "kernelspec": {
      "display_name": "Python 3",
      "name": "python3"
    },
    "language_info": {
      "codemirror_mode": {
        "name": "ipython",
        "version": 3
      },
      "file_extension": ".py",
      "mimetype": "text/x-python",
      "name": "python",
      "nbconvert_exporter": "python",
      "pygments_lexer": "ipython3",
      "version": "3.11.5"
    }
  },
  "nbformat": 4,
  "nbformat_minor": 0
}
