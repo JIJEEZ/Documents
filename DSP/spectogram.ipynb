{
 "cells": [
  {
   "cell_type": "code",
   "execution_count": 1,
   "metadata": {},
   "outputs": [],
   "source": [
    "import numpy as np\n",
    "from scipy import signal\n",
    "import matplotlib.pyplot as plt\n",
    "\n",
    "def spectrogram(audio_signal, sample_rate):\n",
    "    f, t, Sxx = signal.spectrogram(audio_signal, sample_rate)\n",
    "    Sxx = 10 * np.log10(Sxx)\n",
    "    plt.imshow(Sxx, aspect='auto', origin='lower', cmap='inferno')\n",
    "    plt.colorbar(label='Power Spectral Density (dB/Hz)')\n",
    "    plt.xlabel('Time (s)')\n",
    "    plt.ylabel('Frequency (Hz)')\n",
    "    plt.title('Spectrogram')\n",
    "    plt.show()\n"
   ]
  }
 ],
 "metadata": {
  "kernelspec": {
   "display_name": "Python 3",
   "language": "python",
   "name": "python3"
  },
  "language_info": {
   "codemirror_mode": {
    "name": "ipython",
    "version": 3
   },
   "file_extension": ".py",
   "mimetype": "text/x-python",
   "name": "python",
   "nbconvert_exporter": "python",
   "pygments_lexer": "ipython3",
   "version": "3.11.5"
  }
 },
 "nbformat": 4,
 "nbformat_minor": 2
}
